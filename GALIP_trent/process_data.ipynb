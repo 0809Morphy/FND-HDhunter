{
 "cells": [
  {
   "cell_type": "code",
   "execution_count": 1,
   "id": "dc0b919c-c2ba-4331-a449-4f00dd9367c6",
   "metadata": {},
   "outputs": [],
   "source": [
    "import torch\n",
    "import pandas as pd\n",
    "import numpy as np\n",
    "import json\n",
    "import os"
   ]
  },
  {
   "cell_type": "markdown",
   "id": "f09281cc-be77-498b-8708-73ea6e101a51",
   "metadata": {},
   "source": [
    "## rumor数据集就这样处理"
   ]
  },
  {
   "cell_type": "code",
   "execution_count": 12,
   "id": "1fdad570-4e0a-4c14-8c86-f874ca379571",
   "metadata": {},
   "outputs": [],
   "source": [
    "with open('test_rumor.csv') as fp:   \n",
    "    ans=fp.read()"
   ]
  },
  {
   "cell_type": "code",
   "execution_count": 4,
   "id": "d354fcca-b0ac-48b8-9334-64cf5de012e7",
   "metadata": {},
   "outputs": [],
   "source": [
    "ans=ans.split('\\n')"
   ]
  },
  {
   "cell_type": "code",
   "execution_count": 5,
   "id": "28f83b1d-91ce-4d38-af2e-1ecb8ae42619",
   "metadata": {},
   "outputs": [
    {
     "data": {
      "text/plain": [
       "('0,1',\n",
       " '【郭美美申请低保，居然获准通过！】郭美美对记者说，她其实就是一个失业人员，并不是大家想象的那样。她还说：她已经向政府申请了低保，目前已经获批。,7fcc7edetw1e6btq03senj20c80gawgs',\n",
       " '【看病要付钱只有二十几个国家】中国工程院院士戴勀戎：“看病就得付钱。在我们这里好像天经地义。但是你们知道不知道：全世界有两百多个国家。看病要付钱只有二十几个国家。”GDP全球第二，我们做到了；每年三公消费19000亿，我们做到了；免费医疗为什么就做不到？@于建嵘@薛蛮子@任志强@作家崔成浩,8d5c03a7jw1e6r4cc7x02j20by0c40tt')"
      ]
     },
     "execution_count": 5,
     "metadata": {},
     "output_type": "execute_result"
    }
   ],
   "source": [
    "ans[0],ans[1],ans[2]"
   ]
  },
  {
   "cell_type": "code",
   "execution_count": 6,
   "id": "9c15d0cd-2dff-4f0e-892b-4f3ef25127ae",
   "metadata": {},
   "outputs": [
    {
     "data": {
      "text/plain": [
       "'【郭美美申请低保，居然获准通过！】郭美美对记者说，她其实就是一个失业人员，并不是大家想象的那样。她还说：她已经向政府申请了低保，目前已经获批。,7fcc7edetw1e6btq03senj20c80gawgs'"
      ]
     },
     "execution_count": 6,
     "metadata": {},
     "output_type": "execute_result"
    }
   ],
   "source": [
    "#图片名字\n",
    "ans[1].split('/')[-1].split('.')[0]"
   ]
  },
  {
   "cell_type": "code",
   "execution_count": 7,
   "id": "eba6bb03-e963-4b6c-9142-21d740a61d92",
   "metadata": {},
   "outputs": [
    {
     "data": {
      "text/plain": [
       "'【看病要付钱只有二十几个国家】中国工程院院士戴勀戎：“看病就得付钱。在我们这里好像天经地义。但是你们知道不知道：全世界有两百多个国家。看病要付钱只有二十几个国家。”GDP全球第二，我们做到了；每年三公消费19000亿，我们做到了；免费医疗为什么就做不到？@于建嵘@薛蛮子@任志强@作家崔成浩,8d5c03a7jw1e6r4cc7x02j20by0c40tt'"
      ]
     },
     "execution_count": 7,
     "metadata": {},
     "output_type": "execute_result"
    }
   ],
   "source": [
    "ans[2]"
   ]
  },
  {
   "cell_type": "code",
   "execution_count": 8,
   "id": "58d42ff0-5703-45fe-b1a7-67b8ae591c37",
   "metadata": {},
   "outputs": [
    {
     "data": {
      "text/plain": [
       "'【交通新规】归纳汇总为以下八条，开车的朋友请留意。2013年1月1日开始执行。@于建嵘 @海南-李超 @海南梁山 @三昧耶 @南海网总编辑韩潮光 @海南大学黄海宁 @海洋江湖老大 @老聂谈战略 @刚峰看世界 @柳下挥 @海口老徐 @橙邦 @李会革,96449d00jw1dyupdyukbkj'"
      ]
     },
     "execution_count": 8,
     "metadata": {},
     "output_type": "execute_result"
    }
   ],
   "source": [
    "ans[4]"
   ]
  },
  {
   "cell_type": "code",
   "execution_count": 19,
   "id": "02e5a0ee-6927-4d12-a7dd-33f2bee44eaa",
   "metadata": {},
   "outputs": [],
   "source": [
    "imag_file = os.listdir(\"C:/Users/trent/Downloads/GALIP_trent//data/weibo/rumor_images\")"
   ]
  },
  {
   "cell_type": "code",
   "execution_count": 20,
   "id": "2f645345-626f-40c7-8df2-66615311454c",
   "metadata": {},
   "outputs": [
    {
     "data": {
      "text/plain": [
       "True"
      ]
     },
     "execution_count": 20,
     "metadata": {},
     "output_type": "execute_result"
    }
   ],
   "source": [
    "\"7fcc7edetw1e6btq03senj20c80gawgs.jpg\" in imag_file"
   ]
  },
  {
   "cell_type": "code",
   "execution_count": 21,
   "id": "25454e23-da71-4359-98ea-363061a1da76",
   "metadata": {},
   "outputs": [],
   "source": [
    "res=[]\n",
    "for i in range(1, len(ans), 3):\n",
    "    image_name = ans[i].split('/')[-1].split('.')[0]\n",
    "    sentence = ans[i+1]\n",
    "    res.append([sentence, image_name])"
   ]
  },
  {
   "cell_type": "code",
   "execution_count": 22,
   "id": "37214fa8-6f1b-4e5e-b2f9-35a7adc0b1b2",
   "metadata": {},
   "outputs": [
    {
     "data": {
      "text/plain": [
       "(38397, 38397)"
      ]
     },
     "execution_count": 22,
     "metadata": {},
     "output_type": "execute_result"
    }
   ],
   "source": [
    "len(res), len(ans)//3"
   ]
  },
  {
   "cell_type": "code",
   "execution_count": 23,
   "id": "8240fd34-ad30-44c0-880d-f890c13b2677",
   "metadata": {},
   "outputs": [],
   "source": [
    "df=pd.DataFrame(res)"
   ]
  },
  {
   "cell_type": "code",
   "execution_count": 24,
   "id": "379f722f-9961-48a9-8a40-ccf237e73f5d",
   "metadata": {},
   "outputs": [
    {
     "data": {
      "text/html": [
       "<div>\n",
       "<style scoped>\n",
       "    .dataframe tbody tr th:only-of-type {\n",
       "        vertical-align: middle;\n",
       "    }\n",
       "\n",
       "    .dataframe tbody tr th {\n",
       "        vertical-align: top;\n",
       "    }\n",
       "\n",
       "    .dataframe thead th {\n",
       "        text-align: right;\n",
       "    }\n",
       "</style>\n",
       "<table border=\"1\" class=\"dataframe\">\n",
       "  <thead>\n",
       "    <tr style=\"text-align: right;\">\n",
       "      <th></th>\n",
       "      <th>0</th>\n",
       "      <th>1</th>\n",
       "    </tr>\n",
       "  </thead>\n",
       "  <tbody>\n",
       "    <tr>\n",
       "      <th>0</th>\n",
       "      <td>1</td>\n",
       "      <td>,</td>\n",
       "    </tr>\n",
       "    <tr>\n",
       "      <th>1</th>\n",
       "      <td>郭</td>\n",
       "      <td>【</td>\n",
       "    </tr>\n",
       "    <tr>\n",
       "      <th>2</th>\n",
       "      <td>申</td>\n",
       "      <td>美</td>\n",
       "    </tr>\n",
       "    <tr>\n",
       "      <th>3</th>\n",
       "      <td>保</td>\n",
       "      <td>低</td>\n",
       "    </tr>\n",
       "    <tr>\n",
       "      <th>4</th>\n",
       "      <td>然</td>\n",
       "      <td>居</td>\n",
       "    </tr>\n",
       "  </tbody>\n",
       "</table>\n",
       "</div>"
      ],
      "text/plain": [
       "   0  1\n",
       "0  1  ,\n",
       "1  郭  【\n",
       "2  申  美\n",
       "3  保  低\n",
       "4  然  居"
      ]
     },
     "execution_count": 24,
     "metadata": {},
     "output_type": "execute_result"
    }
   ],
   "source": [
    "df.head()"
   ]
  },
  {
   "cell_type": "code",
   "execution_count": 17,
   "id": "f126391a-142e-4f03-8409-d0def5b5888d",
   "metadata": {},
   "outputs": [],
   "source": [
    "df.to_csv('test_rumor.csv', index=False)"
   ]
  },
  {
   "cell_type": "code",
   "execution_count": 12,
   "id": "d279a95d-9c50-40ae-8175-33e67c27d2bd",
   "metadata": {},
   "outputs": [
    {
     "data": {
      "text/plain": [
       "'震惊，转发求证：【想都不敢想 ，在美国一桶金龙鱼食用油只要8元人民币】 一桶食用油相当于中国超市40多元(现在估计已经涨到五六十元了)的金龙鱼，在纽约沃尔玛感恩节时是1.6美元，圣诞节降至1.3美元。(折合人民币8.58元，而且油是绿色纯天然的，不是转基因的)，为什么中国一桶食用油要卖几十上百元？'"
      ]
     },
     "execution_count": 12,
     "metadata": {},
     "output_type": "execute_result"
    }
   ],
   "source": [
    "res[0][0]"
   ]
  },
  {
   "cell_type": "code",
   "execution_count": 11,
   "id": "e07d53d4-c707-4042-afef-f3ab5907edf9",
   "metadata": {},
   "outputs": [
    {
     "ename": "NameError",
     "evalue": "name 'imag_file' is not defined",
     "output_type": "error",
     "traceback": [
      "\u001b[1;31m---------------------------------------------------------------------------\u001b[0m",
      "\u001b[1;31mNameError\u001b[0m                                 Traceback (most recent call last)",
      "Cell \u001b[1;32mIn[11], line 1\u001b[0m\n\u001b[1;32m----> 1\u001b[0m \u001b[38;5;28mlen\u001b[39m(\u001b[43mimag_file\u001b[49m)\n",
      "\u001b[1;31mNameError\u001b[0m: name 'imag_file' is not defined"
     ]
    }
   ],
   "source": [
    "len(imag_file)"
   ]
  },
  {
   "cell_type": "markdown",
   "id": "6845a583-79fc-4645-a40c-09787047ac95",
   "metadata": {},
   "source": [
    "## 下面的不用管"
   ]
  },
  {
   "cell_type": "code",
   "execution_count": 33,
   "id": "1f73fcbf-faeb-4dbe-bda8-1240a226d6f2",
   "metadata": {
    "jupyter": {
     "source_hidden": true
    },
    "tags": []
   },
   "outputs": [],
   "source": [
    "from finetuner import Document, DocumentArray\n",
    "\n",
    "train_da = DocumentArray([\n",
    "    Document(\n",
    "        chunks=[\n",
    "            Document(\n",
    "                content='pencil skirt slim fit available for sell',\n",
    "                modality='text',\n",
    "            ),\n",
    "            Document(\n",
    "                uri='https://...skirt-1.png',\n",
    "                modality='image',\n",
    "            ),\n",
    "        ],\n",
    "    ),\n",
    "    Document(\n",
    "        chunks=[\n",
    "            Document(\n",
    "                content='stripped over-sized shirt for sell',\n",
    "                modality='text',\n",
    "            ),\n",
    "            Document(\n",
    "                uri='https://...shirt-1.png',\n",
    "                modality='image',\n",
    "            ),\n",
    "        ],\n",
    "    ),\n",
    "])"
   ]
  },
  {
   "cell_type": "code",
   "execution_count": null,
   "id": "8b4a29cf-0882-4633-ac0d-b6f3cf39dfd6",
   "metadata": {},
   "outputs": [],
   "source": []
  },
  {
   "cell_type": "code",
   "execution_count": 34,
   "id": "2f48f6ed-4d59-4867-9dee-61cc0dd2a9fe",
   "metadata": {
    "collapsed": true,
    "jupyter": {
     "outputs_hidden": true
    },
    "tags": []
   },
   "outputs": [
    {
     "data": {
      "text/html": [
       "<pre style=\"white-space:pre;overflow-x:auto;line-height:normal;font-family:Menlo,'DejaVu Sans Mono',consolas,'Courier New',monospace\">📄 <span style=\"font-weight: bold\">Document</span>: <span style=\"color: #008080; text-decoration-color: #008080\">979568b45b3af6f70c3b8b05b865482d</span>\n",
       "└── 💠 <span style=\"font-weight: bold\">Chunks</span>\n",
       "    ├── 📄 <span style=\"font-weight: bold\">Document</span>: <span style=\"color: #008080; text-decoration-color: #008080\">882e2b50c93967ead2b9429bdbcfe134</span>\n",
       "    │   ╭───────────────────┬──────────────────────────────────────────────────────────╮\n",
       "    │   │<span style=\"font-weight: bold\"> Attribute         </span>│<span style=\"font-weight: bold\"> Value                                                    </span>│\n",
       "    │   ├───────────────────┼──────────────────────────────────────────────────────────┤\n",
       "    │   │ parent_id         │ 979568b45b3af6f70c3b8b05b865482d                         │\n",
       "    │   │ granularity       │ 1                                                        │\n",
       "    │   │ text              │ pencil skirt slim fit available for sell                 │\n",
       "    │   │ modality          │ text                                                     │\n",
       "    │   ╰───────────────────┴──────────────────────────────────────────────────────────╯\n",
       "    └── 📄 <span style=\"font-weight: bold\">Document</span>: <span style=\"color: #008080; text-decoration-color: #008080\">70122ffb3bae32f7b4bd4257c4e62182</span>\n",
       "        ╭──────────────────────┬───────────────────────────────────────────────────────╮\n",
       "        │<span style=\"font-weight: bold\"> Attribute            </span>│<span style=\"font-weight: bold\"> Value                                                 </span>│\n",
       "        ├──────────────────────┼───────────────────────────────────────────────────────┤\n",
       "        │ parent_id            │ 979568b45b3af6f70c3b8b05b865482d                      │\n",
       "        │ granularity          │ 1                                                     │\n",
       "        │ mime_type            │ image/png                                             │\n",
       "        │ uri                  │ https://...skirt-1.png                                │\n",
       "        │ modality             │ image                                                 │\n",
       "        ╰──────────────────────┴───────────────────────────────────────────────────────╯\n",
       "</pre>\n"
      ],
      "text/plain": [
       "📄 \u001b[1mDocument\u001b[0m: \u001b[36m979568b45b3af6f70c3b8b05b865482d\u001b[0m\n",
       "└── 💠 \u001b[1mChunks\u001b[0m\n",
       "    ├── 📄 \u001b[1mDocument\u001b[0m: \u001b[36m882e2b50c93967ead2b9429bdbcfe134\u001b[0m\n",
       "    │   ╭───────────────────┬──────────────────────────────────────────────────────────╮\n",
       "    │   │\u001b[1m \u001b[0m\u001b[1mAttribute        \u001b[0m\u001b[1m \u001b[0m│\u001b[1m \u001b[0m\u001b[1mValue                                                   \u001b[0m\u001b[1m \u001b[0m│\n",
       "    │   ├───────────────────┼──────────────────────────────────────────────────────────┤\n",
       "    │   │ parent_id         │ 979568b45b3af6f70c3b8b05b865482d                         │\n",
       "    │   │ granularity       │ 1                                                        │\n",
       "    │   │ text              │ pencil skirt slim fit available for sell                 │\n",
       "    │   │ modality          │ text                                                     │\n",
       "    │   ╰───────────────────┴──────────────────────────────────────────────────────────╯\n",
       "    └── 📄 \u001b[1mDocument\u001b[0m: \u001b[36m70122ffb3bae32f7b4bd4257c4e62182\u001b[0m\n",
       "        ╭──────────────────────┬───────────────────────────────────────────────────────╮\n",
       "        │\u001b[1m \u001b[0m\u001b[1mAttribute           \u001b[0m\u001b[1m \u001b[0m│\u001b[1m \u001b[0m\u001b[1mValue                                                \u001b[0m\u001b[1m \u001b[0m│\n",
       "        ├──────────────────────┼───────────────────────────────────────────────────────┤\n",
       "        │ parent_id            │ 979568b45b3af6f70c3b8b05b865482d                      │\n",
       "        │ granularity          │ 1                                                     │\n",
       "        │ mime_type            │ image/png                                             │\n",
       "        │ uri                  │ https://...skirt-1.png                                │\n",
       "        │ modality             │ image                                                 │\n",
       "        ╰──────────────────────┴───────────────────────────────────────────────────────╯\n"
      ]
     },
     "metadata": {},
     "output_type": "display_data"
    }
   ],
   "source": [
    "train_da[0]"
   ]
  },
  {
   "cell_type": "code",
   "execution_count": 35,
   "id": "2c629129-6fa0-4d26-8c32-b33285944411",
   "metadata": {},
   "outputs": [],
   "source": [
    "train_da = DocumentArray([])"
   ]
  },
  {
   "cell_type": "code",
   "execution_count": 39,
   "id": "35d0ffe8-4702-41b2-8001-089003c24dcc",
   "metadata": {},
   "outputs": [
    {
     "data": {
      "text/plain": [
       "'/home/jovyan/work/GALIP/rumor_images/a71ac854gw1dytin2zmk9j.jpg'"
      ]
     },
     "execution_count": 39,
     "metadata": {},
     "output_type": "execute_result"
    }
   ],
   "source": [
    "os.path.join('/home/jovyan/work/GALIP/rumor_images',f'{res[0][1]}.jpg')"
   ]
  },
  {
   "cell_type": "code",
   "execution_count": 41,
   "id": "d1b39888-0eb4-436c-ac1d-02b11cd79401",
   "metadata": {
    "jupyter": {
     "source_hidden": true
    },
    "tags": []
   },
   "outputs": [],
   "source": [
    "for i in res:\n",
    "    b= Document(\n",
    "        chunks=[\n",
    "            Document(\n",
    "                content=i[0],\n",
    "                modality='text',\n",
    "            ),\n",
    "            Document(\n",
    "                uri=os.path.join('/home/jovyan/work/GALIP/rumor_images',f'{i[1]}.jpg'),\n",
    "                modality='image',\n",
    "            ),\n",
    "        ],\n",
    "    )\n",
    "    train_da.append(b)"
   ]
  },
  {
   "cell_type": "code",
   "execution_count": 44,
   "id": "59bedbfe-7cbf-4ba0-9b12-1cf642510000",
   "metadata": {
    "collapsed": true,
    "jupyter": {
     "outputs_hidden": true,
     "source_hidden": true
    },
    "tags": []
   },
   "outputs": [
    {
     "data": {
      "application/vnd.jupyter.widget-view+json": {
       "model_id": "711ad03fe6904d5b86930698e07a5c1d",
       "version_major": 2,
       "version_minor": 0
      },
      "text/plain": [
       "VBox(children=(VBox(children=(HTML(value=\"\\n<div class='custom-container'>\\n    <style>\\n        .button1 {\\n …"
      ]
     },
     "metadata": {},
     "output_type": "display_data"
    },
    {
     "name": "stderr",
     "output_type": "stream",
     "text": [
      "Please report this session_id: [yellow bold]e8832ddc-f9ae-11ee-8be9-ba1fd92003a8[/] to https://github.com/jina-ai/jina-hubble-sdk/issues\n"
     ]
    },
    {
     "ename": "AuthenticationRequiredError",
     "evalue": "-1: Jina auth token is not provided or has expired. <function fit at 0x7f343994d040> requires login to Jina AI, please run `jina auth login -f` or set env variable `JINA_AUTH_TOKEN` with correct token",
     "output_type": "error",
     "traceback": [
      "\u001b[0;31m---------------------------------------------------------------------------\u001b[0m",
      "\u001b[0;31mAuthenticationRequiredError\u001b[0m               Traceback (most recent call last)",
      "Cell \u001b[0;32mIn [44], line 4\u001b[0m\n\u001b[1;32m      2\u001b[0m \u001b[38;5;28;01mimport\u001b[39;00m \u001b[38;5;21;01mfinetuner\u001b[39;00m\n\u001b[1;32m      3\u001b[0m finetuner\u001b[38;5;241m.\u001b[39mlogin(force\u001b[38;5;241m=\u001b[39m\u001b[38;5;28;01mFalse\u001b[39;00m)\n\u001b[0;32m----> 4\u001b[0m run \u001b[38;5;241m=\u001b[39m \u001b[43mfinetuner\u001b[49m\u001b[38;5;241;43m.\u001b[39;49m\u001b[43mfit\u001b[49m\u001b[43m(\u001b[49m\n\u001b[1;32m      5\u001b[0m \u001b[43m    \u001b[49m\u001b[43mmodel\u001b[49m\u001b[38;5;241;43m=\u001b[39;49m\u001b[38;5;124;43m'\u001b[39;49m\u001b[38;5;124;43mclip-base-en\u001b[39;49m\u001b[38;5;124;43m'\u001b[39;49m\u001b[43m,\u001b[49m\n\u001b[1;32m      6\u001b[0m \u001b[43m    \u001b[49m\u001b[43mtrain_data\u001b[49m\u001b[38;5;241;43m=\u001b[39;49m\u001b[38;5;124;43m'\u001b[39;49m\u001b[38;5;124;43mfinetuner/fashion-train-data-clip\u001b[39;49m\u001b[38;5;124;43m'\u001b[39;49m\u001b[43m,\u001b[49m\n\u001b[1;32m      7\u001b[0m \u001b[43m    \u001b[49m\u001b[38;5;66;43;03m#eval_data='finetuner/fashion-eval-data-clip',\u001b[39;49;00m\n\u001b[1;32m      8\u001b[0m \u001b[43m    \u001b[49m\u001b[43mepochs\u001b[49m\u001b[38;5;241;43m=\u001b[39;49m\u001b[38;5;241;43m5\u001b[39;49m\u001b[43m,\u001b[49m\n\u001b[1;32m      9\u001b[0m \u001b[43m    \u001b[49m\u001b[43mlearning_rate\u001b[49m\u001b[38;5;241;43m=\u001b[39;49m\u001b[43m \u001b[49m\u001b[38;5;241;43m1e-7\u001b[39;49m\u001b[43m,\u001b[49m\n\u001b[1;32m     10\u001b[0m \u001b[43m    \u001b[49m\u001b[43mloss\u001b[49m\u001b[38;5;241;43m=\u001b[39;49m\u001b[38;5;124;43m'\u001b[39;49m\u001b[38;5;124;43mCLIPLoss\u001b[39;49m\u001b[38;5;124;43m'\u001b[39;49m\u001b[43m,\u001b[49m\n\u001b[1;32m     11\u001b[0m \u001b[43m    \u001b[49m\u001b[43mdevice\u001b[49m\u001b[38;5;241;43m=\u001b[39;49m\u001b[38;5;124;43m'\u001b[39;49m\u001b[38;5;124;43mcuda\u001b[39;49m\u001b[38;5;124;43m'\u001b[39;49m\u001b[43m,\u001b[49m\n\u001b[1;32m     12\u001b[0m \u001b[43m)\u001b[49m\n",
      "File \u001b[0;32m/usr/local/lib/python3.8/dist-packages/hubble/__init__.py:68\u001b[0m, in \u001b[0;36mlogin_required.<locals>.arg_wrapper\u001b[0;34m(*args, **kwargs)\u001b[0m\n\u001b[1;32m     62\u001b[0m         \u001b[38;5;28;01mreturn\u001b[39;00m func(\u001b[38;5;241m*\u001b[39margs, \u001b[38;5;241m*\u001b[39m\u001b[38;5;241m*\u001b[39mkwargs)\n\u001b[1;32m     63\u001b[0m     \u001b[38;5;28mprint\u001b[39m(\n\u001b[1;32m     64\u001b[0m         \u001b[38;5;124m'\u001b[39m\u001b[38;5;124m[yellow]You can login later by running [bold]jina auth login[/] \u001b[39m\u001b[38;5;124m'\u001b[39m\n\u001b[1;32m     65\u001b[0m         \u001b[38;5;124m'\u001b[39m\u001b[38;5;124mor set env variable [bold]JINA_AUTH_TOKEN[/][/].\u001b[39m\u001b[38;5;124m'\u001b[39m\n\u001b[1;32m     66\u001b[0m     )\n\u001b[0;32m---> 68\u001b[0m \u001b[38;5;28;01mraise\u001b[39;00m AuthenticationRequiredError(\n\u001b[1;32m     69\u001b[0m     response\u001b[38;5;241m=\u001b[39m{},\n\u001b[1;32m     70\u001b[0m     message\u001b[38;5;241m=\u001b[39m\u001b[38;5;124mf\u001b[39m\u001b[38;5;124m'\u001b[39m\u001b[38;5;124mJina auth token is not provided or has expired. \u001b[39m\u001b[38;5;132;01m{\u001b[39;00mfunc\u001b[38;5;132;01m!r}\u001b[39;00m\u001b[38;5;124m requires login to Jina AI, \u001b[39m\u001b[38;5;124m'\u001b[39m\n\u001b[1;32m     71\u001b[0m     \u001b[38;5;124mf\u001b[39m\u001b[38;5;124m'\u001b[39m\u001b[38;5;124mplease run `jina auth login -f` or set env variable `JINA_AUTH_TOKEN` with correct token\u001b[39m\u001b[38;5;124m'\u001b[39m,\n\u001b[1;32m     72\u001b[0m ) \u001b[38;5;28;01mfrom\u001b[39;00m \u001b[38;5;28mNone\u001b[39m\n",
      "\u001b[0;31mAuthenticationRequiredError\u001b[0m: -1: Jina auth token is not provided or has expired. <function fit at 0x7f343994d040> requires login to Jina AI, please run `jina auth login -f` or set env variable `JINA_AUTH_TOKEN` with correct token"
     ]
    }
   ],
   "source": [
    "from finetuner.callback import EvaluationCallback\n",
    "import finetuner\n",
    "finetuner.login(force=False)\n",
    "run = finetuner.fit(\n",
    "    model='clip-base-en',\n",
    "    train_data='finetuner/fashion-train-data-clip',\n",
    "    #eval_data='finetuner/fashion-eval-data-clip',\n",
    "    epochs=5,\n",
    "    learning_rate= 1e-7,\n",
    "    loss='CLIPLoss',\n",
    "    device='cuda',\n",
    ")"
   ]
  },
  {
   "cell_type": "code",
   "execution_count": 32,
   "id": "a37b804a-7ca6-4ffe-9481-f4d539a285b6",
   "metadata": {
    "collapsed": true,
    "jupyter": {
     "outputs_hidden": true
    },
    "tags": []
   },
   "outputs": [
    {
     "data": {
      "text/html": [
       "<pre style=\"white-space:pre;overflow-x:auto;line-height:normal;font-family:Menlo,'DejaVu Sans Mono',consolas,'Courier New',monospace\">📄 <span style=\"font-weight: bold\">Document</span>: <span style=\"color: #008080; text-decoration-color: #008080\">efc24b08dc3769704d99a3189cdea2a3</span>\n",
       "└── 💠 <span style=\"font-weight: bold\">Chunks</span>\n",
       "    ├── 📄 <span style=\"font-weight: bold\">Document</span>: <span style=\"color: #008080; text-decoration-color: #008080\">6730e2db5e0ad63dbfd75c468ff935ca</span>\n",
       "    │   ╭───────────────────┬──────────────────────────────────────────────────────────╮\n",
       "    │   │<span style=\"font-weight: bold\"> Attribute         </span>│<span style=\"font-weight: bold\"> Value                                                    </span>│\n",
       "    │   ├───────────────────┼──────────────────────────────────────────────────────────┤\n",
       "    │   │ parent_id         │ efc24b08dc3769704d99a3189cdea2a3                         │\n",
       "    │   │ granularity       │ 1                                                        │\n",
       "    │   │ text              │ pencil skirt slim fit available for sell                 │\n",
       "    │   │ modality          │ text                                                     │\n",
       "    │   ╰───────────────────┴──────────────────────────────────────────────────────────╯\n",
       "    └── 📄 <span style=\"font-weight: bold\">Document</span>: <span style=\"color: #008080; text-decoration-color: #008080\">81778a613909e2c8af161855e43348f8</span>\n",
       "        ╭──────────────────────┬───────────────────────────────────────────────────────╮\n",
       "        │<span style=\"font-weight: bold\"> Attribute            </span>│<span style=\"font-weight: bold\"> Value                                                 </span>│\n",
       "        ├──────────────────────┼───────────────────────────────────────────────────────┤\n",
       "        │ parent_id            │ efc24b08dc3769704d99a3189cdea2a3                      │\n",
       "        │ granularity          │ 1                                                     │\n",
       "        │ mime_type            │ image/png                                             │\n",
       "        │ uri                  │ https://...skirt-1.png                                │\n",
       "        │ modality             │ image                                                 │\n",
       "        ╰──────────────────────┴───────────────────────────────────────────────────────╯\n",
       "</pre>\n"
      ],
      "text/plain": [
       "📄 \u001b[1mDocument\u001b[0m: \u001b[36mefc24b08dc3769704d99a3189cdea2a3\u001b[0m\n",
       "└── 💠 \u001b[1mChunks\u001b[0m\n",
       "    ├── 📄 \u001b[1mDocument\u001b[0m: \u001b[36m6730e2db5e0ad63dbfd75c468ff935ca\u001b[0m\n",
       "    │   ╭───────────────────┬──────────────────────────────────────────────────────────╮\n",
       "    │   │\u001b[1m \u001b[0m\u001b[1mAttribute        \u001b[0m\u001b[1m \u001b[0m│\u001b[1m \u001b[0m\u001b[1mValue                                                   \u001b[0m\u001b[1m \u001b[0m│\n",
       "    │   ├───────────────────┼──────────────────────────────────────────────────────────┤\n",
       "    │   │ parent_id         │ efc24b08dc3769704d99a3189cdea2a3                         │\n",
       "    │   │ granularity       │ 1                                                        │\n",
       "    │   │ text              │ pencil skirt slim fit available for sell                 │\n",
       "    │   │ modality          │ text                                                     │\n",
       "    │   ╰───────────────────┴──────────────────────────────────────────────────────────╯\n",
       "    └── 📄 \u001b[1mDocument\u001b[0m: \u001b[36m81778a613909e2c8af161855e43348f8\u001b[0m\n",
       "        ╭──────────────────────┬───────────────────────────────────────────────────────╮\n",
       "        │\u001b[1m \u001b[0m\u001b[1mAttribute           \u001b[0m\u001b[1m \u001b[0m│\u001b[1m \u001b[0m\u001b[1mValue                                                \u001b[0m\u001b[1m \u001b[0m│\n",
       "        ├──────────────────────┼───────────────────────────────────────────────────────┤\n",
       "        │ parent_id            │ efc24b08dc3769704d99a3189cdea2a3                      │\n",
       "        │ granularity          │ 1                                                     │\n",
       "        │ mime_type            │ image/png                                             │\n",
       "        │ uri                  │ https://...skirt-1.png                                │\n",
       "        │ modality             │ image                                                 │\n",
       "        ╰──────────────────────┴───────────────────────────────────────────────────────╯\n"
      ]
     },
     "metadata": {},
     "output_type": "display_data"
    }
   ],
   "source": [
    "train_da[0]"
   ]
  },
  {
   "cell_type": "code",
   "execution_count": null,
   "id": "93f691d6-281e-43dc-a332-394e5b4693ea",
   "metadata": {},
   "outputs": [],
   "source": []
  }
 ],
 "metadata": {
  "kernelspec": {
   "display_name": "Python 3",
   "language": "python",
   "name": "python3"
  },
  "language_info": {
   "codemirror_mode": {
    "name": "ipython",
    "version": 3
   },
   "file_extension": ".py",
   "mimetype": "text/x-python",
   "name": "python",
   "nbconvert_exporter": "python",
   "pygments_lexer": "ipython3",
   "version": "3.9.18"
  }
 },
 "nbformat": 4,
 "nbformat_minor": 5
}
