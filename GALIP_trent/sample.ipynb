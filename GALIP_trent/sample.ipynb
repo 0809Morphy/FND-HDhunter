{
 "cells": [
  {
   "cell_type": "code",
   "execution_count": 3,
   "metadata": {},
   "outputs": [],
   "source": [
    "import torch\n",
    "import os\n",
    "from PIL import Image\n",
    "import clip\n",
    "import os.path as osp\n",
    "import os, sys\n",
    "import torchvision.utils as vutils\n",
    "sys.path.insert(0, '../')\n",
    "\n",
    "import pandas as pd\n",
    "import numpy as np\n",
    "from lib.utils import load_model_weights,mkdir_p\n",
    "from models.GALIP import NetG, CLIP_TXT_ENCODER"
   ]
  },
  {
   "cell_type": "code",
   "execution_count": 4,
   "metadata": {},
   "outputs": [
    {
     "name": "stderr",
     "output_type": "stream",
     "text": [
      "100%|███████████████████████████████████████| 338M/338M [00:11<00:00, 30.8MiB/s]\n"
     ]
    }
   ],
   "source": [
    "device = 'cpu' # 'cpu' # 'cuda:0'\n",
    "CLIP_text = \"ViT-B/32\"\n",
    "clip_model, preprocess = clip.load(\"ViT-B/32\", device=device)\n",
    "clip_model = clip_model.eval()"
   ]
  },
  {
   "cell_type": "code",
   "execution_count": 5,
   "metadata": {},
   "outputs": [],
   "source": [
    "text_encoder = CLIP_TXT_ENCODER(clip_model).to(device)\n",
    "netG = NetG(64, 100, 512, 256, 3, False, clip_model).to(device)\n",
    "path = '../saved_models/pretrained/pre_coco.pth'\n",
    "checkpoint = torch.load(path, map_location=torch.device('cpu'))\n",
    "netG = load_model_weights(netG, checkpoint['model']['netG'], multi_gpus=False)"
   ]
  },
  {
   "cell_type": "code",
   "execution_count": 6,
   "metadata": {},
   "outputs": [],
   "source": [
    "batch_size = 100\n",
    "noise = torch.randn((1, 100)).to(device)"
   ]
  },
  {
   "cell_type": "code",
   "execution_count": 6,
   "metadata": {},
   "outputs": [],
   "source": [
    "#captions = ['Line drawing illustration of a kawaii cute ghost.']"
   ]
  },
  {
   "cell_type": "code",
   "execution_count": 5,
   "metadata": {},
   "outputs": [],
   "source": [
    "#captions = ['归纳汇总为以下八条，开车的朋友请留意。2013年1月1日开始执行']"
   ]
  },
  {
   "cell_type": "code",
   "execution_count": 9,
   "metadata": {},
   "outputs": [],
   "source": [
    "mkdir_p('./samples')"
   ]
  },
  {
   "cell_type": "code",
   "execution_count": 4,
   "metadata": {
    "collapsed": true,
    "jupyter": {
     "outputs_hidden": true
    },
    "tags": []
   },
   "outputs": [
    {
     "ename": "NameError",
     "evalue": "name 'mkdir_p' is not defined",
     "output_type": "error",
     "traceback": [
      "\u001b[0;31m---------------------------------------------------------------------------\u001b[0m",
      "\u001b[0;31mNameError\u001b[0m                                 Traceback (most recent call last)",
      "Cell \u001b[0;32mIn [4], line 1\u001b[0m\n\u001b[0;32m----> 1\u001b[0m \u001b[43mmkdir_p\u001b[49m(\u001b[38;5;124m'\u001b[39m\u001b[38;5;124m./real\u001b[39m\u001b[38;5;124m'\u001b[39m)\n",
      "\u001b[0;31mNameError\u001b[0m: name 'mkdir_p' is not defined"
     ]
    }
   ],
   "source": [
    "mkdir_p('./real')"
   ]
  },
  {
   "cell_type": "code",
   "execution_count": 7,
   "metadata": {},
   "outputs": [],
   "source": [
    "import pandas as pd\n",
    "import numpy as np\n",
    "import shutil"
   ]
  },
  {
   "cell_type": "code",
   "execution_count": 25,
   "metadata": {},
   "outputs": [],
   "source": [
    "#处理好的数\n",
    "df=pd.read_csv('/home/jovyan/work/GALIP/test_rumor.csv')"
   ]
  },
  {
   "cell_type": "code",
   "execution_count": 26,
   "metadata": {},
   "outputs": [],
   "source": [
    "df.dropna(subset=['0'], inplace=True)"
   ]
  },
  {
   "cell_type": "code",
   "execution_count": 27,
   "metadata": {},
   "outputs": [],
   "source": [
    "df.reset_index(drop=True, inplace=True)"
   ]
  },
  {
   "cell_type": "code",
   "execution_count": 28,
   "metadata": {},
   "outputs": [],
   "source": [
    "df=df[:100]"
   ]
  },
  {
   "cell_type": "code",
   "execution_count": 29,
   "metadata": {},
   "outputs": [
    {
     "data": {
      "text/html": [
       "<div>\n",
       "<style scoped>\n",
       "    .dataframe tbody tr th:only-of-type {\n",
       "        vertical-align: middle;\n",
       "    }\n",
       "\n",
       "    .dataframe tbody tr th {\n",
       "        vertical-align: top;\n",
       "    }\n",
       "\n",
       "    .dataframe thead th {\n",
       "        text-align: right;\n",
       "    }\n",
       "</style>\n",
       "<table border=\"1\" class=\"dataframe\">\n",
       "  <thead>\n",
       "    <tr style=\"text-align: right;\">\n",
       "      <th></th>\n",
       "      <th>0</th>\n",
       "      <th>1</th>\n",
       "    </tr>\n",
       "  </thead>\n",
       "  <tbody>\n",
       "    <tr>\n",
       "      <th>0</th>\n",
       "      <td>【郭美美申请低保，居然获准通过！】郭美美对记者说，她其实就是一个失业人员，并不是大家想象的那...</td>\n",
       "      <td>7fcc7edetw1e6btq03senj20c80gawgs</td>\n",
       "    </tr>\n",
       "    <tr>\n",
       "      <th>1</th>\n",
       "      <td>【看病要付钱只有二十几个国家】中国工程院院士戴勀戎：“看病就得付钱。在我们这里好像天经地义。...</td>\n",
       "      <td>8d5c03a7jw1e6r4cc7x02j20by0c40tt</td>\n",
       "    </tr>\n",
       "    <tr>\n",
       "      <th>2</th>\n",
       "      <td>东北证券吉林公主岭营业部今天上午被愤怒的股民点燃.</td>\n",
       "      <td>3dc2ac30jw1dx457fr1owj</td>\n",
       "    </tr>\n",
       "    <tr>\n",
       "      <th>3</th>\n",
       "      <td>【交通新规】归纳汇总为以下八条，开车的朋友请留意。2013年1月1日开始执行。@于建嵘 @海...</td>\n",
       "      <td>96449d00jw1dyupdyukbkj</td>\n",
       "    </tr>\n",
       "    <tr>\n",
       "      <th>4</th>\n",
       "      <td>隐翅虫</td>\n",
       "      <td>5103ab97gw1dwmttofzfoj</td>\n",
       "    </tr>\n",
       "  </tbody>\n",
       "</table>\n",
       "</div>"
      ],
      "text/plain": [
       "                                                   0  \\\n",
       "0  【郭美美申请低保，居然获准通过！】郭美美对记者说，她其实就是一个失业人员，并不是大家想象的那...   \n",
       "1  【看病要付钱只有二十几个国家】中国工程院院士戴勀戎：“看病就得付钱。在我们这里好像天经地义。...   \n",
       "2                          东北证券吉林公主岭营业部今天上午被愤怒的股民点燃.   \n",
       "3  【交通新规】归纳汇总为以下八条，开车的朋友请留意。2013年1月1日开始执行。@于建嵘 @海...   \n",
       "4                                                隐翅虫   \n",
       "\n",
       "                                  1  \n",
       "0  7fcc7edetw1e6btq03senj20c80gawgs  \n",
       "1  8d5c03a7jw1e6r4cc7x02j20by0c40tt  \n",
       "2            3dc2ac30jw1dx457fr1owj  \n",
       "3            96449d00jw1dyupdyukbkj  \n",
       "4            5103ab97gw1dwmttofzfoj  "
      ]
     },
     "execution_count": 29,
     "metadata": {},
     "output_type": "execute_result"
    }
   ],
   "source": [
    "df.head()"
   ]
  },
  {
   "cell_type": "code",
   "execution_count": 32,
   "metadata": {},
   "outputs": [
    {
     "data": {
      "text/plain": [
       "71"
      ]
     },
     "execution_count": 32,
     "metadata": {},
     "output_type": "execute_result"
    }
   ],
   "source": [
    "len(df.iloc[0][0])"
   ]
  },
  {
   "cell_type": "code",
   "execution_count": 13,
   "metadata": {},
   "outputs": [
    {
     "name": "stdout",
     "output_type": "stream",
     "text": [
      "<class 'pandas.core.frame.DataFrame'>\n",
      "RangeIndex: 100 entries, 0 to 99\n",
      "Data columns (total 2 columns):\n",
      " #   Column  Non-Null Count  Dtype \n",
      "---  ------  --------------  ----- \n",
      " 0   0       100 non-null    object\n",
      " 1   1       100 non-null    object\n",
      "dtypes: object(2)\n",
      "memory usage: 1.7+ KB\n"
     ]
    }
   ],
   "source": [
    "df.info()"
   ]
  },
  {
   "cell_type": "code",
   "execution_count": 33,
   "metadata": {},
   "outputs": [],
   "source": [
    "def fun_x(x):\n",
    "    if len(x)>20: \n",
    "        return x[:20]\n",
    "    else:\n",
    "        return x"
   ]
  },
  {
   "cell_type": "code",
   "execution_count": 34,
   "metadata": {},
   "outputs": [],
   "source": [
    "df['0'] = df['0'].apply(fun_x)"
   ]
  },
  {
   "cell_type": "code",
   "execution_count": null,
   "metadata": {
    "collapsed": true,
    "jupyter": {
     "outputs_hidden": true
    },
    "tags": []
   },
   "outputs": [],
   "source": []
  },
  {
   "cell_type": "code",
   "execution_count": 58,
   "metadata": {},
   "outputs": [],
   "source": [
    "captions = df['0'].tolist()"
   ]
  },
  {
   "cell_type": "code",
   "execution_count": 36,
   "metadata": {
    "collapsed": true,
    "jupyter": {
     "outputs_hidden": true
    },
    "tags": []
   },
   "outputs": [
    {
     "data": {
      "text/plain": [
       "['【郭美美申请低保，居然获准通过！】郭美美',\n",
       " '【看病要付钱只有二十几个国家】中国工程院',\n",
       " '东北证券吉林公主岭营业部今天上午被愤怒的',\n",
       " '【交通新规】归纳汇总为以下八条，开车的朋',\n",
       " '隐翅虫',\n",
       " '@aKing健: nb//@doggie',\n",
       " '#塘沽爆炸真相##天津爆炸#怎么可能就5',\n",
       " '被和谐好几次了。继续吧。还有靠谱的人联系',\n",
       " '【中国是超级大国！】清华大学院长阎学通：',\n",
       " '【请民警同志把被告人押出去！】审判长先生',\n",
       " '昨日，温州申银万国证劵一女子跳楼。股市大',\n",
       " '世界那么大，那里才安全？ 2兰州·榆中县',\n",
       " '摸奶无罪:请尽情摸MM的&quot;奶&',\n",
       " '#马航飞机失联#看完这张照片你一定会质疑',\n",
       " '蓄谋已久的复旦投毒。林某本想杀姜成，误杀',\n",
       " '看来中日真的要开打了！局势紧张啊！',\n",
       " '【内幕2 来袭！图片！】  就因为刚才那',\n",
       " '大家切記！別亂溝女 ..好恐怖好恐怖～@',\n",
       " '#东京申奥成功# 东京奥运预算为北京1/',\n",
       " '@ 八双鞋；陕西永寿刘爱玲惨死，震动了整',\n",
       " '【刘丽&amp;李玫瑾】刘丽是个普通的劳',\n",
       " '太震憾了！这是拍自四川大凉山区、贵州毕节',\n",
       " '#重庆10名官员涉不雅视频被免职 请颁赵',\n",
       " '最近又有人开始质疑张海迪的国籍以及他为什',\n",
       " '《著名演员姜文去世！撼动人心》 昨天，著',\n",
       " '【巅峰一号昨天也半空&quot;卡&qu',\n",
       " '2011深圳大运800亿，2010广州亚',\n",
       " '中国政府公信力何在？一个没有公信力的政府',\n",
       " '保护好宝贝！万达广场出现偷娃娃的情况，有',\n",
       " '**教委紧急通知**:牛肉不许吃了。未接',\n",
       " '文章和高晓松是一个学校毕业的？语文是一个',\n",
       " '@洛兵:回复@梦里依稀看今朝:不会黑暗到',\n",
       " '#房祖名吸毒被抓#警方未公布的120人名',\n",
       " '通缉令：这11个人是昨晚昆明惨案的暴徒，',\n",
       " '水淹武汉，淹出中国的一面',\n",
       " '大赦天下 【官场百态】卢氏县原县委书记杜',\n",
       " '万能的圈求扩散 朋友在三亚旅游遇到一个可',\n",
       " '信阳的汽车、房地产市场要火爆了！',\n",
       " '#天津塘沽大爆炸#&nbsp;&nbsp',\n",
       " '【河南省委宣传部邀请周小平上班，档案局干',\n",
       " '【世界上唯一拒绝特蕾莎修女的国家】特蕾莎',\n",
       " '中国人八成健康投资用于临死前一个月的治疗',\n",
       " '【可怕！触目惊心的高铁黑洞！】前些天吉林',\n",
       " '看来是虚惊一场。 我在:2集美大道',\n",
       " '今日代表地球号召——【抵制蠢货！】（地球',\n",
       " '媒体报道，梦鸽昨天表态：我相信中国是法治',\n",
       " '【不止是震撼】印尼一名男子，在被洪水冲走',\n",
       " '西班牙《国家报》：【逍遥法外的红色小王子',\n",
       " '【银行卡忘拔被占取1.82万元 警方称取',\n",
       " '因为2块钱，特警暴打司机，随即被司机一招',\n",
       " '注意了！！！肯德基情人节点餐就送套套，为',\n",
       " '大古又死了',\n",
       " '交警暴力执法,强行拖走女车主。事件背景为',\n",
       " '【千万注意！新骗局来了！！！】1)真假快',\n",
       " '【中国的真正危机：物种退化——东亚病夫】',\n",
       " '雅安地震相关报道，今天上午一个红会的人买',\n",
       " '【被当街摸阴部时反抗，女孩遭官二代狂砍！',\n",
       " '四川雅安 2013年4月20日。一男子因',\n",
       " '太震惊了。能和这个媲美了。果然被震惊了！',\n",
       " '今日北京晚报，敬请多提宝贵意见。到app',\n",
       " '【收费赚钱的招数都想尽了！】 烟台公园收',\n",
       " '今天台湾地震把厦门一高层震歪了！台湾震中',\n",
       " '【腾讯】环球时报主编胡锡进1月29日抵达',\n",
       " '【中国媒体人的悲哀】很多国内外的记者前去',\n",
       " '#波士顿爆炸#这名年仅8岁的孩子，于今天',\n",
       " '还有啥说的呢？站着的那些人背后的本质已经',\n",
       " '#烟台身边事#【歹徒又有新花样，大家互相',\n",
       " '终于打小日本了，激动，高兴。 丁点蛋丸之',\n",
       " '南京的同学有福了，接各快递口头通知，南京',\n",
       " '【交通新规扣分变化】从２０１３年元旦起，',\n",
       " '1，徐纯合，是一个访民。这次外出的目的地',\n",
       " '@共青团福建省委',\n",
       " '【大众点评激进改革方案：迁都北京，裁汰老',\n",
       " '李芊的辩护律师质问法官：“医生离开医院就',\n",
       " '生鱼片~',\n",
       " '多行不义必自毙！分享自 深圳前中级“人民',\n",
       " '当这个截图发群里时。。。我忍不住了。。。',\n",
       " '注意了，最近在江苏省沭阳县，湖南、广西、',\n",
       " '这是一只将要被带进实验室的母猴，她的孩子',\n",
       " '蔡英文:我为什么不批评美国？有网友责问我',\n",
       " '凌乱了',\n",
       " '尼玛太帅了！！ 中国女球童低调捡球，轻功',\n",
       " '#体坛快讯# 经过伦敦奥运组委会确认，1',\n",
       " '有个北邮同学因为翻 墙次数过多被学校网络',\n",
       " '【扭曲的爱国】青奥会上、日本选手汤浅贤也',\n",
       " '#天津塘沽大爆炸#我始终不明白都这个时候',\n",
       " '我们经常说有钱不是万能的，但事实上，在中',\n",
       " '用残疾骆驼乞讨，据报道在多地出现，前几天',\n",
       " '在杨家坪九龙广场沃尔玛背后的啤酒花园小区',\n",
       " '安徽淮北市相山区相山北路苏果超市对面花江',\n",
       " '今天清晨8点，南京白下区户部街交警二大队',\n",
       " '发表了博文《太无耻了死亡密码？近年中国重',\n",
       " '【哈尔滨垮塌大桥施工方称填充泡沫系正常做',\n",
       " '看了文章最后一段后，感觉这个记者就是傻逼',\n",
       " '为什么就是有人传言保罗没死？如果真如传言',\n",
       " '哈哈哈~~我实在找不出任何语言了',\n",
       " '堅決抵制日貨，滾蛋死日本！',\n",
       " '在朋友的朋友圈看到的。小女孩因将未拔出插',\n",
       " '成大，你真心要火了么',\n",
       " '@赖小特特 这个七月，城管升级为街道BO']"
      ]
     },
     "execution_count": 36,
     "metadata": {},
     "output_type": "execute_result"
    }
   ],
   "source": [
    "captions"
   ]
  },
  {
   "cell_type": "code",
   "execution_count": 59,
   "metadata": {},
   "outputs": [],
   "source": [
    "file_name = df['1'].tolist()"
   ]
  },
  {
   "cell_type": "code",
   "execution_count": 60,
   "metadata": {
    "collapsed": true,
    "jupyter": {
     "outputs_hidden": true
    },
    "tags": []
   },
   "outputs": [
    {
     "data": {
      "text/plain": [
       "['7fcc7edetw1e6btq03senj20c80gawgs',\n",
       " '8d5c03a7jw1e6r4cc7x02j20by0c40tt',\n",
       " '3dc2ac30jw1dx457fr1owj',\n",
       " '96449d00jw1dyupdyukbkj',\n",
       " '5103ab97gw1dwmttofzfoj',\n",
       " '3d5b0116jw1e3s876pe2vj',\n",
       " '005vBEORjw1ev1g9cjiylj30hq0vktan',\n",
       " '817561d7jw1e3yakgqkalj20at097ab1',\n",
       " '730c081ejw1eg8ho208xdj206s06r3ym',\n",
       " '4fca5397gw1dtjjwget52j',\n",
       " '640a6385tw1e607cximfxj20ac08ewfd',\n",
       " '006c4WZjjw1ev12ajgzs7j30ch0m8abz',\n",
       " '45206f21jw1dx8t75ppqwj',\n",
       " '5d6648f2jw1eeepc8d7yvj20hs0np77f',\n",
       " '6d431500jw1e3sa6m903cj20dc0m8q5n',\n",
       " '7c27db9fjw1dwsyufp10qj',\n",
       " '84f41de9jw1e2rtdl9g1cj',\n",
       " '5db6dc32gw1dzx0dm8pqxj',\n",
       " '498379fdjw1e8hcjpk4pjj20qe0ffacc',\n",
       " '7608d41djw1edmh42il34j20bc0au0t4',\n",
       " '5a359721jw1e2mxv1k6sqj',\n",
       " '670ea1ecjw1e5mfir8o7zj20c80fn3zn',\n",
       " 'bd0a94d5jw1e15t0nybmij',\n",
       " '8d5ccf50jw1duu9h0j39uj',\n",
       " '005tWjn3jw1enqc6rijo7j30hs0co404',\n",
       " '6ef8a966gw1dwdkvpiv81j',\n",
       " '6b4378a6jw1dydfnwi130j',\n",
       " 'b3c7dfc7jw1ev22zmmpy2j20ew0gq0v8',\n",
       " '690d0d1djw1er6qjorfvlj20im0hd0w7',\n",
       " 'c5796fddjw1euaft47ej6j20hs0nzq3p',\n",
       " '644f8642jw1eez769j4bxj20hs0vk433',\n",
       " '61e04755jw1egxr9714n1j20fl0c9wfi',\n",
       " 'e220c7b7jw1ejl23m0d2ij20m80goacz',\n",
       " '63a02ef3jw1ee1bvdg5iqj20f208gdgc',\n",
       " '4c3e2d4btw1duw9kd3wdzj',\n",
       " '521e96e4gw1e5dhzrhkbpj20c90gzdhi',\n",
       " '6c6e7168jw1esnhifgfi1j20f00qo75u',\n",
       " '5921a134gw1e1wbk64y8cj',\n",
       " 'a61c57b0jw1ev1et1hj5tj20di0mo41e',\n",
       " '7fcc7edetw1eab8m532u1j20q30fstam',\n",
       " '894226e3jw1e163znx1qrj',\n",
       " '4e22530ejw1e4y4r6t607j20ba08fjss',\n",
       " 'a71ac854gw1dytej229y4j',\n",
       " '734c7b43jw1eb5hq3gkg9j20f00qo0u4',\n",
       " '66c7c35ejw1dwvvjmn7haj',\n",
       " 'bfa66467jw1e7n5jwskjkj20c8061q3c',\n",
       " '4e0cd94btw1ehjc95jsv0j20c30fc40f',\n",
       " '4dac388cjw1e4q2ynkonqj20c50a3dgs',\n",
       " 'a24cab3agw1dy0lt85iyyj',\n",
       " '78af5848jw1dx1w0v9uylj',\n",
       " '7292bec3jw1edfo0r4czuj20go09p3z1',\n",
       " 'b13ed866jw1ekxq39vuzqj20ej03h74p',\n",
       " '476b66c1jw1dwnz5den2cj',\n",
       " '5692d8b9jw1dyxztrqic8j',\n",
       " '9b5e07a5jw1dw832rti9aj',\n",
       " '8530f15cjw1e3y891g0vjj20c80of426',\n",
       " '6b99d966jw1e2x1u5k69qj',\n",
       " 'b1ad5e07jw1e3yn8hrhkmj20b308cgm0',\n",
       " 'b8ef2c46gw1e5qyibictwj208c04zglp',\n",
       " '6587622bjw1e60hmg0f5dj20z01f24hc',\n",
       " '538ac81dgw1dtz1urpsfvj',\n",
       " '46fce7cdgw1e36j2v94zuj',\n",
       " '0060Mag5gw1ep5rrsc5jlj30b40gomxy',\n",
       " '77ceff43jw1e5bduku696j20o90f7abl',\n",
       " '9624655ajw1e3ref7iukcj',\n",
       " '84054b48jw1dyb1wo1pr9j',\n",
       " '005HJitygw1ewy4wjr41xj30ci0m874v',\n",
       " '4a2b38dejw1dwsrl1ewvej',\n",
       " '7cc1f9a1jw1eiwx0nrrtjj209j050t9h',\n",
       " '661750c8jw1e0aeipqm1hj',\n",
       " 'd412c127tw1erz2wd9izhj20c80lq401',\n",
       " '0068TBZVgw1ev2ecsdckij30rt0sgtdd',\n",
       " '976b8e2cgw1eelysvxscyj20dc08uq3n',\n",
       " '3bee35c8jw1eomxqwd1g3j20e80aoq3p',\n",
       " 'a40e656djw1ekfv84qzqnj20ck0m8abv',\n",
       " '005AUrzpjw1eh822obxvrj30j60dx76n',\n",
       " '726630d3tw1dyayw5nnp7j',\n",
       " '9a66646fjw1etfp80pf8aj20hs0nqdj5',\n",
       " '4e22530ejw1e9x72u3nq1j20c80gggn4',\n",
       " '939bc242jw1e8aawii3wmj207f08caa1',\n",
       " '7dbf0a5fjw1dx0jojxocvj',\n",
       " '6f1434f2gw1du0cpr4oosj',\n",
       " '965d61ffjw1dvpni3syilj',\n",
       " '8973ff12jw1er9fxzajv7j20c80ceab7',\n",
       " 'e367829bgw1ejncf8brywj20cs0hrmyx',\n",
       " 'd7932093jw1ev30z8559jj20dc0nojtv',\n",
       " '9052e2adjw1e25zzrcwh6j',\n",
       " '4aa65f87jw1elh188yu6ij218g0ozagj',\n",
       " '5d6ed51fjw1en737ospauj20qo0zkwlt',\n",
       " '9955552ajw1eo9zwsfg0xj20p018gq6q',\n",
       " '5c704c50gw1dvzb0g0740j',\n",
       " '8e73c74ajw1envk7larg1j20c80gbmyi',\n",
       " '59381213jw1dwcau0w694j',\n",
       " '51fa6190jw1es9a2sgnjkj20k00y6dl9',\n",
       " 'afb9b52djw1eb692n1k5yj20hs0ofjv2',\n",
       " '7026b880jw1e0ytb16g4lj',\n",
       " '6d0259c2jw1dwtjuskp8ij',\n",
       " '005GM5yUjw1ep7evzd1bkj30bu0hsdhw',\n",
       " '96fa773cgw1du77h9ji2gj',\n",
       " 'd40c1281tw1e6witbc7zsj20c80gajtx']"
      ]
     },
     "execution_count": 60,
     "metadata": {},
     "output_type": "execute_result"
    }
   ],
   "source": [
    "file_name"
   ]
  },
  {
   "cell_type": "code",
   "execution_count": 61,
   "metadata": {},
   "outputs": [],
   "source": [
    "# generate from text\n",
    "with torch.no_grad():\n",
    "    for i in range(len(captions)):\n",
    "        caption = captions[i]\n",
    "        tokenized_text = clip.tokenize([caption]).to(device)\n",
    "        sent_emb, word_emb = text_encoder(tokenized_text)\n",
    "        #sent_emb = sent_emb.repeat(batch_size,1)\n",
    "        sent_emb = sent_emb.repeat(1,1)\n",
    "        fake_imgs = netG(noise,sent_emb,eval=True).float()\n",
    "        #name = f'{captions[i].replace(\" \", \"-\")}'\n",
    "        name=file_name[i]\n",
    "        vutils.save_image(fake_imgs.data, './samples/%s.jpg'%(name), nrow=8, value_range=(-1, 1), normalize=True)"
   ]
  },
  {
   "cell_type": "code",
   "execution_count": 40,
   "metadata": {},
   "outputs": [],
   "source": [
    "#image = os.path.join('/home/jovyan/work/GALIP/rumor_images','7fcc7edetw1e6btq03senj20c80gawgs.jpg')"
   ]
  },
  {
   "cell_type": "code",
   "execution_count": 42,
   "metadata": {},
   "outputs": [
    {
     "data": {
      "text/plain": [
       "'./real/7fcc7edetw1e6btq03senj20c80gawgs.jpg'"
      ]
     },
     "execution_count": 42,
     "metadata": {},
     "output_type": "execute_result"
    }
   ],
   "source": [
    "#shutil.copy(image, \"./real\")"
   ]
  },
  {
   "cell_type": "code",
   "execution_count": 38,
   "metadata": {},
   "outputs": [
    {
     "data": {
      "text/plain": [
       "'7fcc7edetw1e6btq03senj20c80gawgs'"
      ]
     },
     "execution_count": 38,
     "metadata": {},
     "output_type": "execute_result"
    }
   ],
   "source": [
    "#file_name[0]"
   ]
  },
  {
   "cell_type": "code",
   "execution_count": 64,
   "metadata": {},
   "outputs": [],
   "source": [
    "for i in file_name:\n",
    "    image = os.path.join('/home/jovyan/work/GALIP/rumor_images',f'{i}.jpg')\n",
    "    a = os.listdir(\"/home/jovyan/work/GALIP/rumor_images/\")\n",
    "    if image in a:\n",
    "        shutil.copy(image, \"./real\")\n",
    "    else:\n",
    "        image = os.path.join('/home/jovyan/work/GALIP/rumor_images',f'{i}.png')\n",
    "        a = os.listdir(\"/home/jovyan/work/GALIP/rumor_images/\")\n",
    "        if image in a:\n",
    "            shutil.copy(image, \"./real\")"
   ]
  },
  {
   "cell_type": "code",
   "execution_count": 67,
   "metadata": {
    "tags": []
   },
   "outputs": [
    {
     "data": {
      "text/plain": [
       "['5db6dc32gw1dzx0dm8pqxj.jpg',\n",
       " '730c081ejw1eg8ho208xdj206s06r3ym.jpg',\n",
       " '96449d00jw1dyupdyukbkj.jpg',\n",
       " '8d5c03a7jw1e6r4cc7x02j20by0c40tt.jpg',\n",
       " '5a359721jw1e2mxv1k6sqj.jpg',\n",
       " '7fcc7edetw1e6btq03senj20c80gawgs.jpg',\n",
       " '3dc2ac30jw1dx457fr1owj.jpg',\n",
       " '4fca5397gw1dtjjwget52j.jpg',\n",
       " '7c27db9fjw1dwsyufp10qj.jpg',\n",
       " '.ipynb_checkpoints',\n",
       " '670ea1ecjw1e5mfir8o7zj20c80fn3zn.jpg',\n",
       " '6d431500jw1e3sa6m903cj20dc0m8q5n.jpg',\n",
       " '005vBEORjw1ev1g9cjiylj30hq0vktan.jpg',\n",
       " '498379fdjw1e8hcjpk4pjj20qe0ffacc.jpg',\n",
       " '7608d41djw1edmh42il34j20bc0au0t4.jpg',\n",
       " '84f41de9jw1e2rtdl9g1cj.jpg',\n",
       " '640a6385tw1e607cximfxj20ac08ewfd.jpg',\n",
       " '5d6648f2jw1eeepc8d7yvj20hs0np77f.jpg',\n",
       " '45206f21jw1dx8t75ppqwj.jpg',\n",
       " '5103ab97gw1dwmttofzfoj.jpg',\n",
       " '3d5b0116jw1e3s876pe2vj.jpg',\n",
       " '006c4WZjjw1ev12ajgzs7j30ch0m8abz.jpg',\n",
       " '817561d7jw1e3yakgqkalj20at097ab1.jpg']"
      ]
     },
     "execution_count": 67,
     "metadata": {},
     "output_type": "execute_result"
    }
   ],
   "source": [
    "a = os.listdir(\"./real\")\n",
    "a"
   ]
  },
  {
   "cell_type": "code",
   "execution_count": 71,
   "metadata": {},
   "outputs": [],
   "source": [
    "count=0\n",
    "for i in b:\n",
    "    if i in a:\n",
    "        count+=1"
   ]
  },
  {
   "cell_type": "code",
   "execution_count": 72,
   "metadata": {},
   "outputs": [
    {
     "data": {
      "text/plain": [
       "23"
      ]
     },
     "execution_count": 72,
     "metadata": {},
     "output_type": "execute_result"
    }
   ],
   "source": [
    "count"
   ]
  },
  {
   "cell_type": "code",
   "execution_count": 73,
   "metadata": {},
   "outputs": [],
   "source": [
    "b = os.listdir(\"./samples\")\n",
    "for i in range(len(b)):\n",
    "    if b[i] not in a:\n",
    "        os.remove(os.path.join(\"./samples\",b[i]))"
   ]
  },
  {
   "cell_type": "code",
   "execution_count": 75,
   "metadata": {},
   "outputs": [
    {
     "data": {
      "text/plain": [
       "23"
      ]
     },
     "execution_count": 75,
     "metadata": {},
     "output_type": "execute_result"
    }
   ],
   "source": [
    "b = os.listdir(\"./samples\")\n",
    "len(b)"
   ]
  },
  {
   "cell_type": "code",
   "execution_count": 77,
   "metadata": {
    "collapsed": true,
    "jupyter": {
     "outputs_hidden": true
    },
    "tags": []
   },
   "outputs": [
    {
     "name": "stdout",
     "output_type": "stream",
     "text": [
      "Collecting pytorch_fid\n",
      "  Downloading pytorch_fid-0.3.0-py3-none-any.whl (15 kB)\n",
      "Requirement already satisfied: numpy in /usr/local/lib/python3.8/dist-packages (from pytorch_fid) (1.21.5)\n",
      "Requirement already satisfied: scipy in /usr/local/lib/python3.8/dist-packages (from pytorch_fid) (1.10.1)\n",
      "Requirement already satisfied: torch>=1.0.1 in /usr/local/lib/python3.8/dist-packages (from pytorch_fid) (2.0.0)\n",
      "Requirement already satisfied: pillow in /usr/local/lib/python3.8/dist-packages (from pytorch_fid) (9.3.0)\n",
      "Requirement already satisfied: torchvision>=0.2.2 in /usr/local/lib/python3.8/dist-packages (from pytorch_fid) (0.15.1)\n",
      "Requirement already satisfied: nvidia-cusolver-cu11==11.4.0.1; platform_system == \"Linux\" and platform_machine == \"x86_64\" in /usr/local/lib/python3.8/dist-packages (from torch>=1.0.1->pytorch_fid) (11.4.0.1)\n",
      "Requirement already satisfied: nvidia-cudnn-cu11==8.5.0.96; platform_system == \"Linux\" and platform_machine == \"x86_64\" in /usr/local/lib/python3.8/dist-packages (from torch>=1.0.1->pytorch_fid) (8.5.0.96)\n",
      "Requirement already satisfied: typing-extensions in /usr/local/lib/python3.8/dist-packages (from torch>=1.0.1->pytorch_fid) (4.4.0)\n",
      "Requirement already satisfied: networkx in /usr/local/lib/python3.8/dist-packages (from torch>=1.0.1->pytorch_fid) (3.1)\n",
      "Requirement already satisfied: nvidia-cuda-runtime-cu11==11.7.99; platform_system == \"Linux\" and platform_machine == \"x86_64\" in /usr/local/lib/python3.8/dist-packages (from torch>=1.0.1->pytorch_fid) (11.7.99)\n",
      "Requirement already satisfied: filelock in /usr/local/lib/python3.8/dist-packages (from torch>=1.0.1->pytorch_fid) (3.12.4)\n",
      "Requirement already satisfied: nvidia-cuda-cupti-cu11==11.7.101; platform_system == \"Linux\" and platform_machine == \"x86_64\" in /usr/local/lib/python3.8/dist-packages (from torch>=1.0.1->pytorch_fid) (11.7.101)\n",
      "Requirement already satisfied: nvidia-cusparse-cu11==11.7.4.91; platform_system == \"Linux\" and platform_machine == \"x86_64\" in /usr/local/lib/python3.8/dist-packages (from torch>=1.0.1->pytorch_fid) (11.7.4.91)\n",
      "Requirement already satisfied: nvidia-nccl-cu11==2.14.3; platform_system == \"Linux\" and platform_machine == \"x86_64\" in /usr/local/lib/python3.8/dist-packages (from torch>=1.0.1->pytorch_fid) (2.14.3)\n",
      "Requirement already satisfied: sympy in /usr/local/lib/python3.8/dist-packages (from torch>=1.0.1->pytorch_fid) (1.12)\n",
      "Requirement already satisfied: triton==2.0.0; platform_system == \"Linux\" and platform_machine == \"x86_64\" in /usr/local/lib/python3.8/dist-packages (from torch>=1.0.1->pytorch_fid) (2.0.0)\n",
      "Requirement already satisfied: nvidia-nvtx-cu11==11.7.91; platform_system == \"Linux\" and platform_machine == \"x86_64\" in /usr/local/lib/python3.8/dist-packages (from torch>=1.0.1->pytorch_fid) (11.7.91)\n",
      "Requirement already satisfied: nvidia-cuda-nvrtc-cu11==11.7.99; platform_system == \"Linux\" and platform_machine == \"x86_64\" in /usr/local/lib/python3.8/dist-packages (from torch>=1.0.1->pytorch_fid) (11.7.99)\n",
      "Requirement already satisfied: nvidia-curand-cu11==10.2.10.91; platform_system == \"Linux\" and platform_machine == \"x86_64\" in /usr/local/lib/python3.8/dist-packages (from torch>=1.0.1->pytorch_fid) (10.2.10.91)\n",
      "Requirement already satisfied: jinja2 in /usr/local/lib/python3.8/dist-packages (from torch>=1.0.1->pytorch_fid) (3.1.2)\n",
      "Requirement already satisfied: nvidia-cublas-cu11==11.10.3.66; platform_system == \"Linux\" and platform_machine == \"x86_64\" in /usr/local/lib/python3.8/dist-packages (from torch>=1.0.1->pytorch_fid) (11.10.3.66)\n",
      "Requirement already satisfied: nvidia-cufft-cu11==10.9.0.58; platform_system == \"Linux\" and platform_machine == \"x86_64\" in /usr/local/lib/python3.8/dist-packages (from torch>=1.0.1->pytorch_fid) (10.9.0.58)\n",
      "Requirement already satisfied: requests in /usr/local/lib/python3.8/dist-packages (from torchvision>=0.2.2->pytorch_fid) (2.25.1)\n",
      "Requirement already satisfied: wheel in /usr/lib/python3/dist-packages (from nvidia-cuda-runtime-cu11==11.7.99; platform_system == \"Linux\" and platform_machine == \"x86_64\"->torch>=1.0.1->pytorch_fid) (0.34.2)\n",
      "Requirement already satisfied: setuptools in /usr/local/lib/python3.8/dist-packages (from nvidia-cuda-runtime-cu11==11.7.99; platform_system == \"Linux\" and platform_machine == \"x86_64\"->torch>=1.0.1->pytorch_fid) (65.5.1)\n",
      "Requirement already satisfied: mpmath>=0.19 in /usr/local/lib/python3.8/dist-packages (from sympy->torch>=1.0.1->pytorch_fid) (1.3.0)\n",
      "Requirement already satisfied: cmake in /usr/local/lib/python3.8/dist-packages (from triton==2.0.0; platform_system == \"Linux\" and platform_machine == \"x86_64\"->torch>=1.0.1->pytorch_fid) (3.27.7)\n",
      "Requirement already satisfied: lit in /usr/local/lib/python3.8/dist-packages (from triton==2.0.0; platform_system == \"Linux\" and platform_machine == \"x86_64\"->torch>=1.0.1->pytorch_fid) (17.0.3)\n",
      "Requirement already satisfied: MarkupSafe>=2.0 in /usr/local/lib/python3.8/dist-packages (from jinja2->torch>=1.0.1->pytorch_fid) (2.1.1)\n",
      "Requirement already satisfied: chardet<5,>=3.0.2 in /usr/lib/python3/dist-packages (from requests->torchvision>=0.2.2->pytorch_fid) (3.0.4)\n",
      "Requirement already satisfied: urllib3<1.27,>=1.21.1 in /usr/lib/python3/dist-packages (from requests->torchvision>=0.2.2->pytorch_fid) (1.25.8)\n",
      "Requirement already satisfied: certifi>=2017.4.17 in /usr/lib/python3/dist-packages (from requests->torchvision>=0.2.2->pytorch_fid) (2019.11.28)\n",
      "Requirement already satisfied: idna<3,>=2.5 in /usr/lib/python3/dist-packages (from requests->torchvision>=0.2.2->pytorch_fid) (2.8)\n",
      "Installing collected packages: pytorch-fid\n",
      "Successfully installed pytorch-fid-0.3.0\n",
      "\u001b[33mWARNING: You are using pip version 20.2.4; however, version 24.0 is available.\n",
      "You should consider upgrading via the '/usr/bin/python3 -m pip install --upgrade pip' command.\u001b[0m\n",
      "Note: you may need to restart the kernel to use updated packages.\n"
     ]
    }
   ],
   "source": [
    "pip install pytorch_fid"
   ]
  },
  {
   "cell_type": "code",
   "execution_count": 83,
   "metadata": {},
   "outputs": [
    {
     "name": "stderr",
     "output_type": "stream",
     "text": [
      "100%|██████████| 22/22 [00:01<00:00, 13.91it/s]\n",
      "100%|██████████| 22/22 [00:01<00:00, 16.99it/s]\n"
     ]
    },
    {
     "name": "stdout",
     "output_type": "stream",
     "text": [
      "FID value: 405.56458954396635\n"
     ]
    }
   ],
   "source": [
    "import torch\n",
    "import torchvision\n",
    "import torchvision.transforms as transforms\n",
    "from pytorch_fid import fid_score\n",
    "\n",
    "# 准备真实数据分布和生成模型的图像数据\n",
    "real_images_folder = './real'\n",
    "generated_images_folder = './samples'\n",
    "\n",
    "# # 加载预训练的Inception-v3模型\n",
    "# inception_model = torchvision.models.inception_v3(pretrained=True)\n",
    "\n",
    "# # 定义图像变换\n",
    "# transform = transforms.Compose([\n",
    "#     transforms.Resize(299),\n",
    "#     transforms.CenterCrop(299),\n",
    "#     transforms.ToTensor(),\n",
    "#     transforms.Normalize(mean=[0.5, 0.5, 0.5], std=[0.5, 0.5, 0.5])\n",
    "# ])\n",
    "\n",
    "# 计算FID距离值\n",
    "fid_value = fid_score.calculate_fid_given_paths([real_images_folder, \n",
    "                                                 generated_images_folder],batch_size=1, \n",
    "                                                device='cuda', dims=2048, num_workers=0)\n",
    "print('FID value:', fid_value)"
   ]
  },
  {
   "cell_type": "code",
   "execution_count": 82,
   "metadata": {},
   "outputs": [
    {
     "data": {
      "text/plain": [
       "405.56458954396635"
      ]
     },
     "execution_count": 82,
     "metadata": {},
     "output_type": "execute_result"
    }
   ],
   "source": [
    "fid_value"
   ]
  },
  {
   "cell_type": "code",
   "execution_count": null,
   "metadata": {},
   "outputs": [],
   "source": []
  }
 ],
 "metadata": {
  "kernelspec": {
   "display_name": "Python 3",
   "language": "python",
   "name": "python3"
  },
  "language_info": {
   "codemirror_mode": {
    "name": "ipython",
    "version": 3
   },
   "file_extension": ".py",
   "mimetype": "text/x-python",
   "name": "python",
   "nbconvert_exporter": "python",
   "pygments_lexer": "ipython3",
   "version": "3.9.18"
  },
  "vscode": {
   "interpreter": {
    "hash": "849434eb86c3997df801551b732438d01b491303b69c29efcf332721ce6d8430"
   }
  }
 },
 "nbformat": 4,
 "nbformat_minor": 4
}
