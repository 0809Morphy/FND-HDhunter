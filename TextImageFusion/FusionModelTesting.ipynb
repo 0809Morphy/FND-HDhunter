{
 "cells": [
  {
   "cell_type": "code",
   "execution_count": 9,
   "id": "initial_id",
   "metadata": {
    "collapsed": true,
    "ExecuteTime": {
     "end_time": "2024-03-26T04:51:31.970566800Z",
     "start_time": "2024-03-26T04:51:31.965620500Z"
    }
   },
   "outputs": [],
   "source": [
    "# 导入必要的库\n",
    "import torch\n",
    "from torch import nn\n",
    "from transformers import BertModel, BertTokenizer\n",
    "from torchvision.models import resnet50\n",
    "from torchvision import transforms\n",
    "from PIL import Image\n",
    "from torch.utils.data import Dataset, DataLoader\n",
    "\n",
    "# 定义文本图像融合数据集\n",
    "class TextImageDataset(Dataset):\n",
    "    def __init__(self, texts, image_paths, labels):\n",
    "        self.tokenizer = BertTokenizer.from_pretrained('bert-base-uncased')\n",
    "        self.texts = texts\n",
    "        self.image_paths = image_paths\n",
    "        self.labels = labels\n",
    "\n",
    "    def __len__(self):\n",
    "        return len(self.texts)\n",
    "\n",
    "    def __getitem__(self, idx):\n",
    "        # 处理文本\n",
    "        text = self.texts[idx]\n",
    "        inputs = self.tokenizer(\n",
    "            text,\n",
    "            add_special_tokens=True,\n",
    "            max_length=512,\n",
    "            padding='max_length',\n",
    "            truncation=True,\n",
    "            return_attention_mask=True,\n",
    "            return_tensors=\"pt\"\n",
    "        )\n",
    "        input_ids = inputs['input_ids'].squeeze(0)\n",
    "        attention_mask = inputs['attention_mask'].squeeze(0)\n",
    "\n",
    "        # 处理图像\n",
    "        image = Image.open(self.image_paths[idx]).convert(\"RGB\")\n",
    "        transform = transforms.Compose([\n",
    "            transforms.Resize((224, 224)),\n",
    "            transforms.ToTensor(),\n",
    "            transforms.Normalize(mean=[0.485, 0.456, 0.406], std=[0.229, 0.224, 0.225]),\n",
    "        ])\n",
    "        image = transform(image)\n",
    "\n",
    "        label = torch.tensor(self.labels[idx])\n",
    "\n",
    "        return input_ids, attention_mask, image, label"
   ]
  },
  {
   "cell_type": "code",
   "outputs": [],
   "source": [
    "# 定义融合模型\n",
    "class FusionModel(nn.Module):\n",
    "    def __init__(self):\n",
    "        \n",
    "        super(FusionModel, self).__init__()\n",
    "        \n",
    "        self.text_model = BertModel.from_pretrained('bert-base-uncased')\n",
    "        self.image_model = resnet50(pretrained=True)\n",
    "        \n",
    "        image_features_dim = self.image_model.fc.in_features\n",
    "        self.image_model.fc = nn.Identity()\n",
    "        \n",
    "        fusion_dim = self.text_model.config.hidden_size + image_features_dim\n",
    "        self.fusion_layer = nn.Linear(fusion_dim, 512)\n",
    "        self.output_layer = nn.Linear(512, 1)\n",
    "\n",
    "    def forward(self, input_ids, attention_mask, images):\n",
    "        text_features = self.text_model(input_ids=input_ids, attention_mask=attention_mask).pooler_output\n",
    "        image_features = self.image_model(images)\n",
    "        \n",
    "        fusion = torch.cat((text_features, image_features), dim=1)\n",
    "        \n",
    "        fusion = self.fusion_layer(fusion)\n",
    "        fusion = torch.relu(fusion)\n",
    "        output = self.output_layer(fusion)\n",
    "        return output"
   ],
   "metadata": {
    "collapsed": false,
    "ExecuteTime": {
     "end_time": "2024-03-26T04:51:34.262767300Z",
     "start_time": "2024-03-26T04:51:34.257120300Z"
    }
   },
   "id": "e97c00349481b770",
   "execution_count": 10
  },
  {
   "cell_type": "code",
   "outputs": [],
   "source": [
    "# 示例文本和图像路径\n",
    "texts = ['This is a spiderman', 'This is actually a spiderman']\n",
    "image_paths = ['cube.jpeg', 'Spiderman1.png']\n",
    "# 0 fake, 1 real\n",
    "labels = [0, 1]\n",
    "\n",
    "# 创建数据集和数据加载器\n",
    "dataset = TextImageDataset(texts, image_paths, labels)\n",
    "dataloader = DataLoader(dataset, batch_size=2)\n",
    "\n",
    "# 初始化模型并进行预测\n",
    "model = FusionModel()"
   ],
   "metadata": {
    "collapsed": false,
    "ExecuteTime": {
     "end_time": "2024-03-26T04:51:38.629515400Z",
     "start_time": "2024-03-26T04:51:37.021067200Z"
    }
   },
   "id": "de4b539f109dd90a",
   "execution_count": 11
  },
  {
   "cell_type": "code",
   "outputs": [
    {
     "name": "stdout",
     "output_type": "stream",
     "text": [
      "tensor([[0.4978],\n",
      "        [0.5409]], grad_fn=<SigmoidBackward0>)\n"
     ]
    }
   ],
   "source": [
    "for batch in dataloader:\n",
    "    input_ids, attention_mask, images, labels = batch\n",
    "    outputs = model(input_ids, attention_mask, images)\n",
    "    \n",
    "    probabilities = torch.sigmoid(outputs)\n",
    "    \n",
    "    print(probabilities)"
   ],
   "metadata": {
    "collapsed": false,
    "ExecuteTime": {
     "end_time": "2024-03-26T04:51:42.914658300Z",
     "start_time": "2024-03-26T04:51:40.227914900Z"
    }
   },
   "id": "9d5b13f8347dd204",
   "execution_count": 12
  }
 ],
 "metadata": {
  "kernelspec": {
   "display_name": "Python 3",
   "language": "python",
   "name": "python3"
  },
  "language_info": {
   "codemirror_mode": {
    "name": "ipython",
    "version": 2
   },
   "file_extension": ".py",
   "mimetype": "text/x-python",
   "name": "python",
   "nbconvert_exporter": "python",
   "pygments_lexer": "ipython2",
   "version": "2.7.6"
  }
 },
 "nbformat": 4,
 "nbformat_minor": 5
}
